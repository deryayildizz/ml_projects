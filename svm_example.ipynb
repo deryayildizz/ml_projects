{
 "cells": [
  {
   "cell_type": "code",
   "execution_count": 7,
   "id": "1006b004-e27f-464b-875e-e302e3b127ae",
   "metadata": {
    "tags": []
   },
   "outputs": [],
   "source": [
    "import pandas as pd\n",
    "import numpy as np\n",
    "from sklearn.datasets import load_iris()\n",
    "import matplotlib.pyplot as plt"
   ]
  },
  {
   "cell_type": "code",
   "execution_count": 16,
   "id": "a76610a0-af56-4916-be11-be4eaf33b3a3",
   "metadata": {
    "tags": []
   },
   "outputs": [
    {
     "name": "stdout",
     "output_type": "stream",
     "text": [
      "     sepal length (cm)  sepal width (cm)  petal length (cm)  petal width (cm)\n",
      "0                  5.1               3.5                1.4               0.2\n",
      "1                  4.9               3.0                1.4               0.2\n",
      "2                  4.7               3.2                1.3               0.2\n",
      "3                  4.6               3.1                1.5               0.2\n",
      "4                  5.0               3.6                1.4               0.2\n",
      "..                 ...               ...                ...               ...\n",
      "145                6.7               3.0                5.2               2.3\n",
      "146                6.3               2.5                5.0               1.9\n",
      "147                6.5               3.0                5.2               2.0\n",
      "148                6.2               3.4                5.4               2.3\n",
      "149                5.9               3.0                5.1               1.8\n",
      "\n",
      "[150 rows x 4 columns]\n"
     ]
    }
   ],
   "source": [
    "# Iris veri setini yükleme\n",
    "iris = load_iris()\n",
    "\n",
    "# Veri setini DataFrame'e dönüştürme\n",
    "df = pd.DataFrame(data=iris.data, columns=iris.feature_names)\n",
    "\n",
    "# DataFrame'i gösterme\n",
    "print(df)"
   ]
  },
  {
   "cell_type": "code",
   "execution_count": 25,
   "id": "609d0fe0-f80a-426c-9fcd-10a21c243d29",
   "metadata": {
    "tags": []
   },
   "outputs": [
    {
     "name": "stdout",
     "output_type": "stream",
     "text": [
      "Tahmin edilen iris çiçeği türü: setosa\n",
      "Eğitim Seti Doğruluk Oranı: 0.975\n",
      "Test Seti Doğruluk Oranı: 1.0\n"
     ]
    }
   ],
   "source": [
    "from sklearn.datasets import load_iris\n",
    "from sklearn.model_selection import train_test_split\n",
    "from sklearn.svm import SVC\n",
    "\n",
    "# Iris veri setini yükleme\n",
    "iris = load_iris()\n",
    "\n",
    "# Eğitim ve test setlerine ayırma\n",
    "X_train, X_test, y_train, y_test = train_test_split(iris.data, iris.target, test_size=0.2, random_state=42)\n",
    "\n",
    "# SVM modelini oluşturma ve eğitme\n",
    "model = SVC(kernel='linear')\n",
    "model.fit(X_train, y_train)\n",
    "\n",
    "# Verilen özelliklerle tahmin yapma\n",
    "new_data = [[5.0, 3.5, 1.5, 0.2]]  # sepal length, sepal width, petal length, petal width\n",
    "predicted_class = model.predict(new_data)\n",
    "\n",
    "# Tahmin edilen iris çiçeği türünü yazdırma\n",
    "print(\"Tahmin edilen iris çiçeği türü:\", iris.target_names[predicted_class[0]])\n",
    "\n",
    "# Eğitim ve test veri setleri için doğruluk oranı hesaplama\n",
    "accuracy_train = model.score(X_train, y_train)\n",
    "accuracy_test = model.score(X_test, y_test)\n",
    "\n",
    "print('Eğitim Seti Doğruluk Oranı:', accuracy_train)\n",
    "print('Test Seti Doğruluk Oranı:', accuracy_test)"
   ]
  },
  {
   "cell_type": "code",
   "execution_count": null,
   "id": "c91779df-76ba-41fa-ac83-7df3509abd2e",
   "metadata": {},
   "outputs": [],
   "source": []
  }
 ],
 "metadata": {
  "kernelspec": {
   "display_name": "Python 3 (ipykernel)",
   "language": "python",
   "name": "python3"
  },
  "language_info": {
   "codemirror_mode": {
    "name": "ipython",
    "version": 3
   },
   "file_extension": ".py",
   "mimetype": "text/x-python",
   "name": "python",
   "nbconvert_exporter": "python",
   "pygments_lexer": "ipython3",
   "version": "3.11.5"
  }
 },
 "nbformat": 4,
 "nbformat_minor": 5
}
